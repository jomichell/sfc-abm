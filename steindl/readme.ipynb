{
 "cells": [
  {
   "cell_type": "markdown",
   "id": "2b2ea413-6620-4d37-8dd1-7279d9ec2e95",
   "metadata": {},
   "source": [
    "# ABSim #\n",
    "\n",
    "A collection of Python tools for developing agent-based models\n",
    "\n",
    "This is draft documention. This is a work in progress.\n"
   ]
  },
  {
   "cell_type": "markdown",
   "id": "b24f51bd-52aa-4069-b0f0-3640cd7392fd",
   "metadata": {},
   "source": [
    "## Quickstart ##\n",
    "\n",
    "Some quick and rough instructions on the main features of the model. For example simulation results, see: [simulations](./Steindl_ABM_simulations.md).\n",
    "\n",
    "To create an agent such as firm with given parameters and state variables, we subclass `SimBloc`(see below):"
   ]
  },
  {
   "cell_type": "code",
   "execution_count": 5,
   "id": "f7dfcf04-f8e3-436c-8230-b97a42b8a4a6",
   "metadata": {},
   "outputs": [
    {
     "data": {
      "text/plain": [
       "state vars:{0: {'y': 100, 'wb': 80}, -1: {'y': 75, 'wb': 40}}, params:{'alpha': 0.1, 'gamma': 0.8}"
      ]
     },
     "execution_count": 5,
     "metadata": {},
     "output_type": "execute_result"
    }
   ],
   "source": [
    "from absim import SimBloc\n",
    "\n",
    "firm1 = SimBloc()\n",
    "\n",
    "firm1.set_svars(y = 100, wb = 80)\n",
    "firm1.set_svars(y = 75, wb = 40, lag = 1)\n",
    "firm1.set_params(alpha = 0.1, gamma = 0.8)\n",
    "firm1\n"
   ]
  },
  {
   "cell_type": "markdown",
   "id": "cbbdc51c-fa02-45ed-8eb6-4d7c7c244742",
   "metadata": {},
   "source": [
    "We can define specific features of agents by creating subclassing `SimBlock` and adding custom functions. These functions can take advantage of the `unpack` utility function to gain easy access to parameters "
   ]
  },
  {
   "cell_type": "code",
   "execution_count": 9,
   "id": "6c1060a4-5e2c-4fc2-95ac-e1c7e6cf9a83",
   "metadata": {},
   "outputs": [
    {
     "data": {
      "text/plain": [
       "20"
      ]
     },
     "execution_count": 9,
     "metadata": {},
     "output_type": "execute_result"
    }
   ],
   "source": [
    "class Firm(SimBloc):\n",
    "    def get_profit(self):\n",
    "        c = self.get_svars()\n",
    "\n",
    "        return c.y - c.wb\n",
    "\n",
    "\n",
    "firm2 = Firm()\n",
    "firm2.set_svars(y = 100, wb = 80)\n",
    "\n",
    "firm2.get_profit()"
   ]
  },
  {
   "cell_type": "markdown",
   "id": "a4fe034c-3315-4caa-a316-be13cab67c79",
   "metadata": {},
   "source": [
    "## In more detail ##\n",
    "\n",
    "The module `absim` defines classes which provide basic functionality to simulate agent-based models.\n",
    "\n",
    "### Model blocs ###\n",
    "\n",
    "\n",
    "AB simulation models are thought of as being constructed from *blocs*, which are provided by the class `SimBloc`. Blocs are very loosely defined: a bloc can be used to represent a model, a sector or an agent. A bloc provides a way to collect and access *state variables* and *parameters*, and to define structure such as sectoral structure.\n",
    "\n",
    "AB simulations are internally represented as a set of state variables which evolve through time. At any point, these only include those variables needed to continue simulation: past values of state variables are stored as 'results'. State variables can either be current or lagged variable values. For example, for a firm, previous period revenue might be a state variable because it affects current period investment.\n",
    "\n",
    "Models always have a top-level bloc, which acts as a 'container' for the model as a whole, and provides functions to initialise the model, run simulations and other top-level functionality. Models may also contain lower-level blocs which can be used to collect together groups of agents of . For example, a two-sector model made up of households, firms may use a one 'bloc' to represent each household or firm plus an extra bloc for the overall model. Each agent will then have an independent set of state variables. These could be balance sheet items or \n",
    "current of lagged flow variables.\n",
    "\n"
   ]
  },
  {
   "cell_type": "markdown",
   "id": "3a7e3313-79e1-44db-9116-d553d35e8ec8",
   "metadata": {},
   "source": [
    "### Variable storage and access ###"
   ]
  },
  {
   "cell_type": "markdown",
   "id": "cc12d681-0a1c-4f3e-a1a1-19e3cee289c1",
   "metadata": {},
   "source": [
    "The class `SimVars` is designed to overcome the problem of cumbersome algebraic syntax in models. In general, variables need to be kept out of the root namespace. But accessing variables in dictionaries is syntactically cumbersome and makes algebra difficult to read. For example, consider the macroeconomic identity $$Y = C + I$$ Ideally we'd like to be able to code this as `Y = C + I`, but this requires the three variables to defined in the root namespace. If the variables are stored in a dictionary, d, this becomes `d['Y'] = d['C'] + c['I']`. This is significantly more annoying to type, and also substantially harder to read. `SimVars` offers a compromise by allowing 'dot notation': \n"
   ]
  },
  {
   "cell_type": "code",
   "execution_count": 7,
   "id": "8c72b97d-e757-464c-8191-3f8dda39c563",
   "metadata": {},
   "outputs": [
    {
     "data": {
      "text/plain": [
       "100"
      ]
     },
     "execution_count": 7,
     "metadata": {},
     "output_type": "execute_result"
    }
   ],
   "source": [
    "from absim import SimVars\n",
    "d = SimVars()\n",
    "d.C = 80\n",
    "d.I = 20\n",
    "\n",
    "d.Y = d.C + d.I\n",
    "\n",
    "d.Y"
   ]
  },
  {
   "cell_type": "markdown",
   "id": "d837f6cc-3ccd-4089-88b7-0746028ddd26",
   "metadata": {},
   "source": [
    "The class `SimBloc` sets up storage for state variables and model parameters using the `SimVar` class in the background. By default `SimBloc` assumes that current and one-period lagged variables constitute state variables."
   ]
  },
  {
   "cell_type": "markdown",
   "id": "fb4359c4-c56d-4e86-9ea5-b6e088e4658e",
   "metadata": {},
   "source": [
    "We can create an object representing, for example, a firm, as follows"
   ]
  },
  {
   "cell_type": "code",
   "execution_count": 11,
   "id": "aa20e72d-76d0-4cb5-b7b2-4f79c29719d2",
   "metadata": {},
   "outputs": [
    {
     "data": {
      "text/plain": [
       "{0: {}, -1: {}}"
      ]
     },
     "execution_count": 11,
     "metadata": {},
     "output_type": "execute_result"
    }
   ],
   "source": [
    "from absim import SimBloc\n",
    "\n",
    "firm = SimBloc()\n",
    "firm.svars"
   ]
  },
  {
   "cell_type": "code",
   "execution_count": null,
   "id": "d7f5100c-ce9d-47d8-97e0-6228b1844c0b",
   "metadata": {},
   "outputs": [],
   "source": []
  }
 ],
 "metadata": {
  "kernelspec": {
   "display_name": "Python 3 (ipykernel)",
   "language": "python",
   "name": "python3"
  },
  "language_info": {
   "codemirror_mode": {
    "name": "ipython",
    "version": 3
   },
   "file_extension": ".py",
   "mimetype": "text/x-python",
   "name": "python",
   "nbconvert_exporter": "python",
   "pygments_lexer": "ipython3",
   "version": "3.11.2"
  }
 },
 "nbformat": 4,
 "nbformat_minor": 5
}
